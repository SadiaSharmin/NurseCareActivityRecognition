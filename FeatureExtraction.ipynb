{
  "nbformat": 4,
  "nbformat_minor": 0,
  "metadata": {
    "colab": {
      "name": "FeatureExtraction.ipynb",
      "private_outputs": true,
      "provenance": [],
      "authorship_tag": "ABX9TyMNCzctsKX8/AcmxEHqPkpR",
      "include_colab_link": true
    },
    "kernelspec": {
      "name": "python3",
      "display_name": "Python 3"
    },
    "accelerator": "GPU"
  },
  "cells": [
    {
      "cell_type": "markdown",
      "metadata": {
        "id": "view-in-github",
        "colab_type": "text"
      },
      "source": [
        "<a href=\"https://colab.research.google.com/github/SadiaSharmin/PHP/blob/master/FeatureExtraction.ipynb\" target=\"_parent\"><img src=\"https://colab.research.google.com/assets/colab-badge.svg\" alt=\"Open In Colab\"/></a>"
      ]
    },
    {
      "cell_type": "code",
      "metadata": {
        "id": "zNFduueYSBxc"
      },
      "source": [
        "# Load the Drive helper and mount\n",
        "from google.colab import drive\n",
        "\n",
        "# This will prompt for authorization.\n",
        "drive.mount('/content/drive')"
      ],
      "execution_count": null,
      "outputs": []
    },
    {
      "cell_type": "code",
      "metadata": {
        "id": "o-ZwubCyTIi4"
      },
      "source": [
        "#go to the directory\n",
        "!ls \"/content/drive/My Drive/Nurse Care Activity Recognition 2020/Dataset/Field/\"\n",
        "!ls \"/content/drive/My Drive/Nurse Care Activity Recognition 2020/Dataset/Lab/\"\n",
        "\n",
        "#copy the desired files\n",
        "!cp \"/content/drive/My Drive/Nurse Care Activity Recognition 2020/Dataset/Field/merged_labeled_user_datal.csv\""
      ],
      "execution_count": null,
      "outputs": []
    },
    {
      "cell_type": "code",
      "metadata": {
        "id": "NAiQY5rrUYn7"
      },
      "source": [
        "import pandas as pd\n",
        "import matplotlib.pyplot as plt\n",
        "import numpy as np\n"
      ],
      "execution_count": null,
      "outputs": []
    },
    {
      "cell_type": "code",
      "metadata": {
        "id": "52SlNPjSUegO"
      },
      "source": [
        "df1 = pd.read_csv(\"/content/drive/My Drive/Nurse Care Activity Recognition 2020/Dataset/Field/merged_labeled_user_datal.csv\")\n",
        "df1.head(10)\n"
      ],
      "execution_count": null,
      "outputs": []
    },
    {
      "cell_type": "code",
      "metadata": {
        "id": "DDH-h8W02tpL"
      },
      "source": [
        "df2 = df1['activity_label']\n",
        "df2.plot.hist()"
      ],
      "execution_count": null,
      "outputs": []
    },
    {
      "cell_type": "code",
      "metadata": {
        "id": "CTFuw1G3G4wN"
      },
      "source": [
        " X = df1.drop([\"activity_label\", 'datetime'],axis=1)\n",
        " Y=  df1[\"activity_label\"]\n",
        " from imblearn.over_sampling import SMOTE, ADASYN\n",
        "X_resampled, y_resampled = SMOTE().fit_resample(X, Y)"
      ],
      "execution_count": null,
      "outputs": []
    },
    {
      "cell_type": "code",
      "metadata": {
        "id": "WwrSpeaoJdLs"
      },
      "source": [
        "count(y_resampled.values)"
      ],
      "execution_count": null,
      "outputs": []
    },
    {
      "cell_type": "code",
      "metadata": {
        "id": "Ec0_6EJ5WpIt"
      },
      "source": [
        "pd.options.mode.chained_assignment = None  # default='warn'\n",
        "dFrame = df1.drop(['datetime'],axis=1)\n",
        "subjects = np.unique(dFrame['user_id'])\n",
        "\n",
        "def splitdata(subject):\n",
        "  train_data = dFrame[dFrame['user_id']!=subjects[subject]]\n",
        "  test_data = dFrame[dFrame['user_id']==subjects[subject]]\n",
        " \n",
        "\n",
        "  return train_data, test_data"
      ],
      "execution_count": null,
      "outputs": []
    },
    {
      "cell_type": "code",
      "metadata": {
        "id": "yIQcILC_3_qj"
      },
      "source": [
        "def XYdata(data):\n",
        "  return data[:,0:-1], data[:,-1]\n"
      ],
      "execution_count": null,
      "outputs": []
    },
    {
      "cell_type": "markdown",
      "metadata": {
        "id": "TXvZ0eIT_6iA"
      },
      "source": [
        "Random Forest "
      ]
    },
    {
      "cell_type": "code",
      "metadata": {
        "id": "WVdhfWMl3ivN"
      },
      "source": [
        "from sklearn.ensemble import RandomForestClassifier as RF\n",
        "from sklearn.metrics import accuracy_score\n",
        "from sklearn.metrics import classification_report\n",
        "\n",
        "fold_acc = []\n",
        "\n",
        "for i in range(8):\n",
        "  train_data, test_data = splitdata(i)\n",
        "  train_data, test_data = train_data.values, test_data.values\n",
        "  \n",
        "  X_train, Y_train = XYdata(train_data)\n",
        "  X_test, Y_test = XYdata(test_data)\n",
        "\n",
        "  rf = RF(n_estimators=100, max_depth=10, random_state=42)\n",
        "  rf.fit(X_train, Y_train)\n",
        "  \n",
        "  Y_pred = rf.predict(X_test)\n",
        "  acc= accuracy_score(Y_test, Y_pred)\n",
        "  \n",
        "  fold_acc += [acc]\n",
        "  print(\"fold\", i+1,\":\", acc)\n",
        "  print(classification_report(Y_test,Y_pred, labels=[1,2,3,4,5,6,7,8,9,10,11,12]))\n",
        "print(\"avg:\", np.mean(fold_acc))"
      ],
      "execution_count": null,
      "outputs": []
    },
    {
      "cell_type": "code",
      "metadata": {
        "id": "Wcu93unPDnFI"
      },
      "source": [
        "from sklearn.model_selection import train_test_split\n",
        "trainX, testX, trainY, testY = train_test_split(df1.drop(['datetime','activity_label'],axis=1), df1.activity_label, test_size=0.30)\n",
        "import sklearn.ensemble as skle\n",
        "\n",
        "rfc = skyle.RandomForestClassifier(100)\n",
        "rfc.fit(trainX, trainY)\n",
        "rfc.score(testX, testY)"
      ],
      "execution_count": null,
      "outputs": []
    },
    {
      "cell_type": "code",
      "metadata": {
        "id": "Trgf6MyCH7za"
      },
      "source": [
        "# KFold Cross Validation approach\n",
        "kf = KFold(n_splits=5,shuffle=False)\n",
        "kf.split(X)    \n",
        "     \n",
        "# Initialize the accuracy of the models to blank list. The accuracy of each model will be appended to this list\n",
        "accuracy_model = []\n",
        " \n",
        "# Iterate over each train-test split\n",
        "for train_index, test_index in kf.split(X):\n",
        "    # Split train-test\n",
        "    X_train, X_test = X.iloc[train_index], X.iloc[test_index]\n",
        "    y_train, y_test = y[train_index], y[test_index]\n",
        "    # Train the model\n",
        "    model = clf.fit(X_train, y_train)\n",
        "    # Append to accuracy_model the accuracy of the model\n",
        "    accuracy_model.append(accuracy_score(y_test, model.predict(X_test), normalize=True)*100)\n",
        "\n",
        "# Print the accuracy    \n",
        "print(accuracy_model)\n",
        "\n",
        "(3989, 4) (998, 4)\n",
        "(3989,) (998,)\n",
        "51.4028\n",
        "[50.501, 52.004, 48.9468, 46.1384, 51.3541]"
      ],
      "execution_count": null,
      "outputs": []
    },
    {
      "cell_type": "markdown",
      "metadata": {
        "id": "KaGPSC3v_-lo"
      },
      "source": [
        "SVM"
      ]
    },
    {
      "cell_type": "code",
      "metadata": {
        "id": "IgGRBC01_tZA"
      },
      "source": [
        "from sklearn.svm import SVC\n",
        "\n",
        "fold_acc = []\n",
        "for i in range(6):\n",
        "  train_data, test_data = splitdata(i)\n",
        "  train_data, test_data = train_data.values, test_data.values\n",
        "  \n",
        "  X_train, Y_train = XYdata(train_data)\n",
        "  \n",
        "  svm = SVC(gamma='auto')\n",
        "  svm.fit(X_train, Y_train)\n",
        "  \n",
        "  acc = predict(test_data, svm)\n",
        "  fold_acc += [acc]\n",
        "  print(\"fold\", i+1,\":\", acc)\n",
        "  \n",
        "print(\"avg:\", np.mean(fold_acc))"
      ],
      "execution_count": null,
      "outputs": []
    },
    {
      "cell_type": "markdown",
      "metadata": {
        "id": "heCcIAD4_0ce"
      },
      "source": [
        "KNN"
      ]
    },
    {
      "cell_type": "code",
      "metadata": {
        "id": "2HJ148NT_3bS"
      },
      "source": [
        "from sklearn.neighbors import KNeighborsClassifier as KNN\n",
        "fold_acc = []\n",
        "for i in range(6):\n",
        "  train_data, test_data = splitdata(i)\n",
        "  train_data, test_data = train_data.values, test_data.values\n",
        "  \n",
        "  X_train, Y_train = XYdata(train_data)\n",
        "  knn = KNN(n_neighbors=5, weights='distance')\n",
        "  knn.fit(X_train, Y_train)\n",
        "  \n",
        "  acc = predict(test_data, knn)\n",
        "  fold_acc += [acc]\n",
        "  print(\"fold\", i+1,\":\", acc)\n",
        "  \n",
        "print(\"avg:\", np.mean(fold_acc))"
      ],
      "execution_count": null,
      "outputs": []
    },
    {
      "cell_type": "markdown",
      "metadata": {
        "id": "YGqrjPy-AF-k"
      },
      "source": [
        "Decision Tree"
      ]
    },
    {
      "cell_type": "code",
      "metadata": {
        "id": "fNKtiXc1AGWB"
      },
      "source": [
        "from sklearn.tree import DecisionTreeClassifier as DT\n",
        "\n",
        "fold_acc = []\n",
        "for i in range(6):\n",
        "  train_data, test_data = splitdata(i)\n",
        "  train_data, test_data = train_data.values, test_data.values\n",
        "    \n",
        "  X_train, Y_train = XYdata(train_data)\n",
        "\n",
        "  dt = DT(random_state=42)\n",
        "  dt.fit(X_train, Y_train)\n",
        "  \n",
        "  acc = predict(test_data, dt)\n",
        "  fold_acc += [acc]\n",
        "  print(\"fold\", i+1,\":\", acc)\n",
        "  \n",
        "print(\"avg:\", np.mean(fold_acc))"
      ],
      "execution_count": null,
      "outputs": []
    }
  ]
}